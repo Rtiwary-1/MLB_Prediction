{
 "cells": [
  {
   "cell_type": "markdown",
   "metadata": {},
   "source": [
    "# Predicting the Winner of MLB Games\n",
    "- Kyle Johnson\n",
    "\n",
    "\n",
    "In this project I create a classification model to predict Major League Basebal games in such a way that is better than the Vegas book makers.  Being able to get 60% of games correct is of no use if Vegas also predicted those same games correctly; in order to have a useful model, I must create one that consistently makes money when betting against Vegas bookmakers.\n",
    "\n",
    "Please use this notebook as a road map through this project and walk through the corresponding notebooks in order for a full understanding of the process.\n",
    "\n",
    "#### Notebook 1: Gathering and Pre-Processing the data\n",
    "Please see the notebook titled: \"Data_Gathering_and_Preprocessing\"\n",
    "\n",
    "#### Notebook 2: Data Exploration and Visualization\n",
    "Please see the notebook titled: \"Data_Exploration_and_Visualization\"\n",
    "\n",
    "#### Notebook 3: Comparing Models\n",
    "Please see the notebook titled: \"Comparing_Models\"\n",
    "\n",
    "#### Notebook 4: Combining Models\n",
    "Please see the notebook titled: \"Combining_Models\"\n",
    "\n",
    "#### Notebook 5: Evaluting the Final Model\n",
    "Please see the notebook titled: \"Evaluting_Final_Model\"\n",
    "\n",
    "#### Conclusions:\n",
    "- I was able to create a model that predicts MLB games more accurately and more profitably than the Vegas odds in a statistically significant way.  I did this by querying data from several online baseball databases and then optimizing several different classification models, before combining them to vote on the outcome of each game. \n",
    "- Oddly enough, it seems that always betting with the Vegas odds is a profitable strategy but using the model created in this project is potentially almose twice as profitable.\n",
    "\n",
    "#### Future Work:\n",
    "For further exploration, I would use more types of data (new and highly advanced statistics) and more games from previous seasons. I would also automate the process of gathering the necessary data for today's games and publishing a report of which games to bet on."
   ]
  },
  {
   "cell_type": "code",
   "execution_count": null,
   "metadata": {},
   "outputs": [],
   "source": []
  }
 ],
 "metadata": {
  "kernelspec": {
   "display_name": "Python 3",
   "language": "python",
   "name": "python3"
  },
  "language_info": {
   "codemirror_mode": {
    "name": "ipython",
    "version": 3
   },
   "file_extension": ".py",
   "mimetype": "text/x-python",
   "name": "python",
   "nbconvert_exporter": "python",
   "pygments_lexer": "ipython3",
   "version": "3.7.3"
  }
 },
 "nbformat": 4,
 "nbformat_minor": 2
}
